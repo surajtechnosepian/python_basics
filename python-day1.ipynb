{
 "cells": [
  {
   "cell_type": "code",
   "execution_count": null,
   "id": "c4fbd945",
   "metadata": {},
   "outputs": [],
   "source": [
    "## TUPLES"
   ]
  },
  {
   "cell_type": "code",
   "execution_count": 10,
   "id": "16204104",
   "metadata": {},
   "outputs": [
    {
     "data": {
      "text/plain": [
       "6"
      ]
     },
     "execution_count": 10,
     "metadata": {},
     "output_type": "execute_result"
    }
   ],
   "source": [
    "my = (1,2,3,4,5,6)\n",
    "len(my)"
   ]
  },
  {
   "cell_type": "code",
   "execution_count": 11,
   "id": "4510ecea",
   "metadata": {},
   "outputs": [
    {
     "name": "stdout",
     "output_type": "stream",
     "text": [
      "1\n",
      "2\n",
      "3\n",
      "4\n",
      "5\n"
     ]
    }
   ],
   "source": [
    "print(my[0])\n",
    "print(my[1])\n",
    "print(my[2])\n",
    "print(my[3])\n",
    "print(my[4])"
   ]
  },
  {
   "cell_type": "code",
   "execution_count": 12,
   "id": "53988101",
   "metadata": {},
   "outputs": [
    {
     "data": {
      "text/plain": [
       "(5, 6)"
      ]
     },
     "execution_count": 12,
     "metadata": {},
     "output_type": "execute_result"
    }
   ],
   "source": [
    "## slicing \n",
    "my[4:]"
   ]
  },
  {
   "cell_type": "code",
   "execution_count": 15,
   "id": "0f4952e9",
   "metadata": {},
   "outputs": [
    {
     "name": "stdout",
     "output_type": "stream",
     "text": [
      "(1, 2, 3, 4, 5, 6, 1, 3, 4, 56, 'Suraj', 'big')\n"
     ]
    }
   ],
   "source": [
    "## concatenation\n",
    "tup=(1, 3,4,56,\"Suraj\",\"big\")\n",
    "new_tup = my + tup\n",
    "print(new_tup)"
   ]
  },
  {
   "cell_type": "code",
   "execution_count": 1,
   "id": "7fbae1c8",
   "metadata": {},
   "outputs": [
    {
     "name": "stdout",
     "output_type": "stream",
     "text": [
      "49\n",
      "36\n",
      "25\n",
      "16\n",
      "9\n",
      "4\n",
      "1\n",
      "0\n",
      "1\n",
      "4\n",
      "9\n",
      "16\n",
      "25\n",
      "36\n",
      "[1, 9, 16, 3136, 400]\n"
     ]
    },
    {
     "data": {
      "text/plain": [
       "list"
      ]
     },
     "execution_count": 1,
     "metadata": {},
     "output_type": "execute_result"
    }
   ],
   "source": [
    "## Iterating over a tuple\n",
    "a = -7\n",
    "b = 7\n",
    "for i in range (a,b,1):\n",
    "    print(i**2)\n",
    "tup=(1, 3,4,56,20)\n",
    "squared= [item** 2 for item in tup]\n",
    "print(squared)\n",
    "type(squared)"
   ]
  },
  {
   "cell_type": "markdown",
   "id": "7f37beb5",
   "metadata": {},
   "source": [
    "## LIST"
   ]
  },
  {
   "cell_type": "code",
   "execution_count": 42,
   "id": "a65c246f",
   "metadata": {},
   "outputs": [
    {
     "name": "stdout",
     "output_type": "stream",
     "text": [
      "<class 'list'>\n",
      "3\n",
      "four\n"
     ]
    }
   ],
   "source": [
    "my_list = [1, 2, 3,\"four\",5.0]\n",
    "print(type(my_list))\n",
    "## Accessing element using indexing\n",
    "print(my_list[2])\n",
    "print(my_list[-2])"
   ]
  },
  {
   "cell_type": "code",
   "execution_count": 45,
   "id": "82e4a452",
   "metadata": {},
   "outputs": [
    {
     "name": "stdout",
     "output_type": "stream",
     "text": [
      "[1, 2, 3]\n"
     ]
    }
   ],
   "source": [
    "# Slicing in List\n",
    "my_list = [1, 2, 3,\"four\",5.0]\n",
    "sliced_result = my_list[0:3] \n",
    "print(sliced_result)"
   ]
  },
  {
   "cell_type": "code",
   "execution_count": 57,
   "id": "e918aabb",
   "metadata": {},
   "outputs": [
    {
     "name": "stdout",
     "output_type": "stream",
     "text": [
      "[1, 2, 3, 'four', 5.0, 40, 56, 20, 'Arun', 'Python']\n"
     ]
    }
   ],
   "source": [
    "# concatenation in list\n",
    "list1 = [40, 56, 20, \"Arun\", \"Python\"]\n",
    "added = my_list  + list1\n",
    "print(added)"
   ]
  },
  {
   "cell_type": "code",
   "execution_count": 56,
   "id": "5c73787a",
   "metadata": {},
   "outputs": [
    {
     "name": "stdout",
     "output_type": "stream",
     "text": [
      "[40, 56, 20, 'Arun', 'Python', 1, 2, 3, 'four', 5.0, 1, 2, 3, 'four', 5.0, 1, 2, 3, 'four', 5.0, 1, 2, 3, 'four', 5.0, 1, 2, 3, 'four', 5.0, [1, 2, 3, 'four', 5.0], 1, 2, 3, 'four', 5.0, 1, 2, 3, 'four', 5.0]\n"
     ]
    }
   ],
   "source": [
    "## append() and extend()\n",
    "list1.extend(my_list)\n",
    "print(list1)\n"
   ]
  },
  {
   "cell_type": "markdown",
   "id": "10af9393",
   "metadata": {},
   "source": [
    "### upgrad problem"
   ]
  },
  {
   "cell_type": "code",
   "execution_count": 6,
   "id": "6b5473da",
   "metadata": {},
   "outputs": [],
   "source": [
    "input_list = list(range(1,100))\n",
    "output_dict = {}\n",
    "\n",
    "for val in input_list:\n",
    "    if val % 3 == 0:\n",
    "       output_dict[val] = val**3"
   ]
  },
  {
   "cell_type": "code",
   "execution_count": 10,
   "id": "7688e736",
   "metadata": {},
   "outputs": [],
   "source": [
    "output_dict= {val : val**3 for val in input_list if val % 3 == 0}\n",
    "\n"
   ]
  },
  {
   "cell_type": "code",
   "execution_count": 11,
   "id": "74840ae2",
   "metadata": {},
   "outputs": [
    {
     "name": "stdout",
     "output_type": "stream",
     "text": [
      "['ad', 'ae', 'af', 'bd', 'be', 'bf', 'cd', 'ce', 'cf']\n"
     ]
    }
   ],
   "source": [
    "print([i+j for i in \"abc\" for j in \"def\"])"
   ]
  },
  {
   "cell_type": "code",
   "execution_count": 12,
   "id": "117b502e",
   "metadata": {
    "scrolled": true
   },
   "outputs": [
    {
     "ename": "SyntaxError",
     "evalue": "invalid syntax (340392871.py, line 1)",
     "output_type": "error",
     "traceback": [
      "\u001b[1;36m  Cell \u001b[1;32mIn[12], line 1\u001b[1;36m\u001b[0m\n\u001b[1;33m    func(x, y):\u001b[0m\n\u001b[1;37m              ^\u001b[0m\n\u001b[1;31mSyntaxError\u001b[0m\u001b[1;31m:\u001b[0m invalid syntax\n"
     ]
    }
   ],
   "source": [
    "func(x, y):\n",
    "    z = x * y + x + y\n",
    "\n",
    "func(2)"
   ]
  },
  {
   "cell_type": "code",
   "execution_count": 13,
   "id": "2e6e2df2",
   "metadata": {},
   "outputs": [
    {
     "data": {
      "text/plain": [
       "23"
      ]
     },
     "execution_count": 13,
     "metadata": {},
     "output_type": "execute_result"
    }
   ],
   "source": [
    "def func(x, y = 1):\n",
    "    z = x * y + x + y\n",
    "    return z\n",
    "\n",
    "func(2, func(3))"
   ]
  },
  {
   "cell_type": "code",
   "execution_count": 15,
   "id": "37218006",
   "metadata": {},
   "outputs": [
    {
     "data": {
      "text/plain": [
       "35"
      ]
     },
     "execution_count": 15,
     "metadata": {},
     "output_type": "execute_result"
    }
   ],
   "source": [
    "def func(x, y = 2):\n",
    "    z = x * y + x + y\n",
    "    return z\n",
    "\n",
    "func(2, func(3))"
   ]
  },
  {
   "cell_type": "code",
   "execution_count": 16,
   "id": "1d4706fa",
   "metadata": {},
   "outputs": [
    {
     "data": {
      "text/plain": [
       "35"
      ]
     },
     "execution_count": 16,
     "metadata": {},
     "output_type": "execute_result"
    }
   ],
   "source": [
    "def func(x = 1 ,y = 2):\n",
    "    z = x * y + x + y\n",
    "    return z\n",
    "\n",
    "func(2, func(3))"
   ]
  },
  {
   "cell_type": "markdown",
   "id": "2cabe9cb",
   "metadata": {},
   "source": [
    "### SET"
   ]
  },
  {
   "cell_type": "code",
   "execution_count": 8,
   "id": "c192737e",
   "metadata": {},
   "outputs": [],
   "source": [
    "set1 = {1,2,3,4}\n",
    "## ADD\n",
    "set1.add(5)\n",
    "set1\n",
    "set2={6,7,8}"
   ]
  },
  {
   "cell_type": "code",
   "execution_count": 12,
   "id": "fee258f6",
   "metadata": {},
   "outputs": [
    {
     "data": {
      "text/plain": [
       "{1, 2, 3, 4, 5, 6, 7, 8}"
      ]
     },
     "execution_count": 12,
     "metadata": {},
     "output_type": "execute_result"
    }
   ],
   "source": [
    "## update\n",
    "set1.update(set2)\n",
    "set1"
   ]
  },
  {
   "cell_type": "code",
   "execution_count": 16,
   "id": "6e91e939",
   "metadata": {},
   "outputs": [
    {
     "name": "stdout",
     "output_type": "stream",
     "text": [
      "True\n",
      "True\n"
     ]
    }
   ],
   "source": [
    "##  checking for membership (i.e in and not in )\n",
    "print(2 in set1)\n",
    "print(9 not in set1)"
   ]
  },
  {
   "cell_type": "markdown",
   "id": "89c74055",
   "metadata": {},
   "source": [
    "### Set operations"
   ]
  },
  {
   "cell_type": "code",
   "execution_count": 17,
   "id": "ff0cf244",
   "metadata": {},
   "outputs": [
    {
     "name": "stdout",
     "output_type": "stream",
     "text": [
      "{1, 2, 3, 4, 5, 6, 7, 8}\n",
      "{8, 6, 7}\n"
     ]
    }
   ],
   "source": [
    "print(set1)\n",
    "print(set2)"
   ]
  },
  {
   "cell_type": "code",
   "execution_count": 18,
   "id": "df224c43",
   "metadata": {},
   "outputs": [
    {
     "name": "stdout",
     "output_type": "stream",
     "text": [
      "Set1 union set2 {1, 2, 3, 4, 5, 6, 7, 8}\n"
     ]
    }
   ],
   "source": [
    "print(\"Set1 union set2\", set1|set2)"
   ]
  },
  {
   "cell_type": "code",
   "execution_count": 19,
   "id": "0c2fe132",
   "metadata": {},
   "outputs": [
    {
     "name": "stdout",
     "output_type": "stream",
     "text": [
      "set1 intersection set2 {8, 6, 7}\n"
     ]
    }
   ],
   "source": [
    "print(\"set1 intersection set2\", set1 & set2)"
   ]
  },
  {
   "cell_type": "code",
   "execution_count": 20,
   "id": "fb587e12",
   "metadata": {},
   "outputs": [
    {
     "name": "stdout",
     "output_type": "stream",
     "text": [
      "set1 difference set2 {1, 2, 3, 4, 5}\n"
     ]
    }
   ],
   "source": [
    "print(\"set1 difference set2\", set1-set2)"
   ]
  },
  {
   "cell_type": "code",
   "execution_count": 21,
   "id": "a86828c0",
   "metadata": {},
   "outputs": [
    {
     "name": "stdout",
     "output_type": "stream",
     "text": [
      "set2 difference set1 set()\n"
     ]
    }
   ],
   "source": [
    "print(\"set2 difference set1\", set2-set1)"
   ]
  },
  {
   "cell_type": "code",
   "execution_count": 22,
   "id": "a2a7b177",
   "metadata": {},
   "outputs": [
    {
     "data": {
      "text/plain": [
       "False"
      ]
     },
     "execution_count": 22,
     "metadata": {},
     "output_type": "execute_result"
    }
   ],
   "source": [
    "len(set1) ==  len(set2)"
   ]
  },
  {
   "cell_type": "markdown",
   "id": "377397d2",
   "metadata": {},
   "source": [
    "### Dictionary"
   ]
  },
  {
   "cell_type": "code",
   "execution_count": 24,
   "id": "b0c66b37",
   "metadata": {},
   "outputs": [
    {
     "name": "stdout",
     "output_type": "stream",
     "text": [
      "<class 'dict'>\n"
     ]
    }
   ],
   "source": [
    "dict1 = {\"name1\": \"Suraj\", \"name2\":\"Suru\",\"name3\":\"sir\"}\n",
    "print(type(dict1))"
   ]
  },
  {
   "cell_type": "code",
   "execution_count": 25,
   "id": "06320590",
   "metadata": {},
   "outputs": [
    {
     "data": {
      "text/plain": [
       "dict_values(['Suraj', 'Suru', 'sir'])"
      ]
     },
     "execution_count": 25,
     "metadata": {},
     "output_type": "execute_result"
    }
   ],
   "source": [
    "## Accessing Elements\n",
    "dict1.values()"
   ]
  },
  {
   "cell_type": "code",
   "execution_count": 26,
   "id": "763754bd",
   "metadata": {},
   "outputs": [
    {
     "data": {
      "text/plain": [
       "dict_keys(['name1', 'name2', 'name3'])"
      ]
     },
     "execution_count": 26,
     "metadata": {},
     "output_type": "execute_result"
    }
   ],
   "source": [
    "dict1.keys()"
   ]
  },
  {
   "cell_type": "code",
   "execution_count": 43,
   "id": "6c685f24",
   "metadata": {},
   "outputs": [],
   "source": [
    "dict1['name1'] = \"sur\""
   ]
  },
  {
   "cell_type": "code",
   "execution_count": 45,
   "id": "571ee771",
   "metadata": {},
   "outputs": [
    {
     "data": {
      "text/plain": [
       "{'name1': 'sur',\n",
       " 'name2': 'Suru',\n",
       " 'name3': 'sir',\n",
       " ' name1': 'SURAj',\n",
       " 'name4': 'Python'}"
      ]
     },
     "execution_count": 45,
     "metadata": {},
     "output_type": "execute_result"
    }
   ],
   "source": [
    "## Adding elements\n",
    "dict1[\"name4\"] = \"Python\"\n",
    "dict1"
   ]
  },
  {
   "cell_type": "markdown",
   "id": "f171fb1d",
   "metadata": {},
   "source": [
    "### Stack and Queue in list\n",
    "- STACK IS LIFO and QUEUE IS FIFO"
   ]
  },
  {
   "cell_type": "code",
   "execution_count": 52,
   "id": "30e47eb9",
   "metadata": {},
   "outputs": [
    {
     "name": "stdout",
     "output_type": "stream",
     "text": [
      "[1, 2, 3]\n",
      "3\n",
      "[1, 2]\n"
     ]
    }
   ],
   "source": [
    "# create an empty stack using list  \n",
    "stack =[]\n",
    "# push elements onto the stack\n",
    "stack.append(1)\n",
    "stack.append(2)\n",
    "stack.append(3)\n",
    "print(stack)\n",
    "print(stack.pop())\n",
    "print(stack)"
   ]
  },
  {
   "cell_type": "code",
   "execution_count": 55,
   "id": "96d2b719",
   "metadata": {},
   "outputs": [
    {
     "name": "stdout",
     "output_type": "stream",
     "text": [
      "[1, 2, 3]\n",
      "3\n",
      "[1, 2]\n"
     ]
    }
   ],
   "source": [
    "queue =[]\n",
    "queue.append(1)\n",
    "queue.append(2)\n",
    "queue.append(3)\n",
    "print(queue)\n",
    "print(queue.pop())\n",
    "print(queue)"
   ]
  },
  {
   "cell_type": "code",
   "execution_count": 25,
   "id": "5fcb11f8",
   "metadata": {},
   "outputs": [],
   "source": [
    "my_list=[4,2,9,7,1,5]\n",
    "smallest_element = my_list[0]"
   ]
  },
  {
   "cell_type": "code",
   "execution_count": 16,
   "id": "3f1affa2",
   "metadata": {},
   "outputs": [
    {
     "name": "stdout",
     "output_type": "stream",
     "text": [
      "smallest element is: 2\n"
     ]
    }
   ],
   "source": [
    "for i in my_list:\n",
    "    if i < smallest_element:\n",
    "        smallest_element = i\n",
    "print('smallest element is:', smallest_element)"
   ]
  },
  {
   "cell_type": "code",
   "execution_count": 28,
   "id": "1a4c3b67",
   "metadata": {},
   "outputs": [],
   "source": [
    "average = sum(my_list) / len(my_list)"
   ]
  },
  {
   "cell_type": "code",
   "execution_count": 29,
   "id": "47e877fc",
   "metadata": {},
   "outputs": [
    {
     "data": {
      "text/plain": [
       "4.666666666666667"
      ]
     },
     "execution_count": 29,
     "metadata": {},
     "output_type": "execute_result"
    }
   ],
   "source": [
    "average"
   ]
  },
  {
   "cell_type": "code",
   "execution_count": 34,
   "id": "b13b4f52",
   "metadata": {},
   "outputs": [],
   "source": [
    "above_average = []\n",
    "for element in my_list:\n",
    "    if element > average:\n",
    "        above_average.append(element)"
   ]
  },
  {
   "cell_type": "code",
   "execution_count": 35,
   "id": "1339384f",
   "metadata": {},
   "outputs": [
    {
     "name": "stdout",
     "output_type": "stream",
     "text": [
      "[9, 7, 5]\n"
     ]
    }
   ],
   "source": [
    "print(above_average)"
   ]
  },
  {
   "cell_type": "code",
   "execution_count": 36,
   "id": "f0cb51da",
   "metadata": {},
   "outputs": [
    {
     "ename": "SyntaxError",
     "evalue": "expected '(' (885772848.py, line 1)",
     "output_type": "error",
     "traceback": [
      "\u001b[1;36m  Cell \u001b[1;32mIn[36], line 1\u001b[1;36m\u001b[0m\n\u001b[1;33m    def above\u001b[0m\n\u001b[1;37m             ^\u001b[0m\n\u001b[1;31mSyntaxError\u001b[0m\u001b[1;31m:\u001b[0m expected '('\n"
     ]
    }
   ],
   "source": [
    "def above_average(input_list):\n",
    "    average = sum(input_list) / len(input_list)\n",
    "    "
   ]
  },
  {
   "cell_type": "code",
   "execution_count": 41,
   "id": "b6c5e9be",
   "metadata": {},
   "outputs": [
    {
     "name": "stdout",
     "output_type": "stream",
     "text": [
      "Calendar for October 2023:\n",
      "    October 2023\n",
      "Mo Tu We Th Fr Sa Su\n",
      "                   1\n",
      " 2  3  4  5  6  7  8\n",
      " 9 10 11 12 13 14 15\n",
      "16 17 18 19 20 21 22\n",
      "23 24 25 26 27 28 29\n",
      "30 31\n",
      "\n"
     ]
    }
   ],
   "source": [
    "import calendar\n",
    "from datetime import date\n",
    "today = date.today()\n",
    "year = today.year\n",
    "month = today.month\n",
    "cal = calendar.month(year, month)\n",
    "print(f\"Calendar for {calendar.month_name[month]} {year}:\")\n",
    "print(cal)"
   ]
  },
  {
   "cell_type": "code",
   "execution_count": 40,
   "id": "fc54b9bc",
   "metadata": {},
   "outputs": [
    {
     "data": {
      "text/plain": [
       "4.666666666666667"
      ]
     },
     "execution_count": 40,
     "metadata": {},
     "output_type": "execute_result"
    }
   ],
   "source": [
    "_"
   ]
  },
  {
   "cell_type": "code",
   "execution_count": null,
   "id": "3e780975",
   "metadata": {},
   "outputs": [],
   "source": []
  }
 ],
 "metadata": {
  "kernelspec": {
   "display_name": "Python 3 (ipykernel)",
   "language": "python",
   "name": "python3"
  },
  "language_info": {
   "codemirror_mode": {
    "name": "ipython",
    "version": 3
   },
   "file_extension": ".py",
   "mimetype": "text/x-python",
   "name": "python",
   "nbconvert_exporter": "python",
   "pygments_lexer": "ipython3",
   "version": "3.11.4"
  }
 },
 "nbformat": 4,
 "nbformat_minor": 5
}
